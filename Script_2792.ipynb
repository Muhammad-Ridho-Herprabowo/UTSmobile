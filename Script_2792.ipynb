{
  "nbformat": 4,
  "nbformat_minor": 0,
  "metadata": {
    "colab": {
      "name": "untitled3.ipynb",
      "provenance": [],
      "collapsed_sections": []
    },
    "kernelspec": {
      "name": "python3",
      "display_name": "Python 3"
    },
    "language_info": {
      "name": "python"
    }
  },
  "cells": [
    {
      "cell_type": "markdown",
      "metadata": {
        "id": "AdWXtHFiVFDQ"
      },
      "source": [
        "\n",
        "# Korelasi Data\n",
        "1. Mengelola data menggunakan pandas"
      ]
    },
    {
      "cell_type": "code",
      "metadata": {
        "colab": {
          "resources": {
            "http://localhost:8080/nbextensions/google.colab/files.js": {
              "data": "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",
              "ok": true,
              "headers": [
                [
                  "content-type",
                  "application/javascript"
                ]
              ],
              "status": 200,
              "status_text": "OK"
            }
          },
          "base_uri": "https://localhost:8080/",
          "height": 75
        },
        "id": "YhUp4gSYVHne",
        "outputId": "dfd5ab03-fbcd-42e2-9a24-e7ebf5856425"
      },
      "source": [
        "# import library panda\n",
        "import pandas as pd\n",
        "\n",
        "#import datasheet\n",
        "from google.colab import files\n",
        "uploaded = files.upload()\n",
        "\n"
      ],
      "execution_count": 9,
      "outputs": [
        {
          "output_type": "display_data",
          "data": {
            "text/html": [
              "\n",
              "     <input type=\"file\" id=\"files-10b8e367-9f80-489e-83cf-9ab6c07f0f20\" name=\"files[]\" multiple disabled\n",
              "        style=\"border:none\" />\n",
              "     <output id=\"result-10b8e367-9f80-489e-83cf-9ab6c07f0f20\">\n",
              "      Upload widget is only available when the cell has been executed in the\n",
              "      current browser session. Please rerun this cell to enable.\n",
              "      </output>\n",
              "      <script src=\"/nbextensions/google.colab/files.js\"></script> "
            ],
            "text/plain": [
              "<IPython.core.display.HTML object>"
            ]
          },
          "metadata": {}
        },
        {
          "output_type": "stream",
          "name": "stdout",
          "text": [
            "Saving 2778.csv to 2778.csv\n"
          ]
        }
      ]
    },
    {
      "cell_type": "code",
      "metadata": {
        "colab": {
          "base_uri": "https://localhost:8080/",
          "height": 645
        },
        "id": "vzoX2EC0cs2M",
        "outputId": "683860f8-e6e1-4ceb-bcce-e21b504a6bec"
      },
      "source": [
        "#membaca file datasehet csv\n",
        "df=pd.read_csv(\"2778.csv\")\n",
        "df"
      ],
      "execution_count": 10,
      "outputs": [
        {
          "output_type": "execute_result",
          "data": {
            "text/html": [
              "<div>\n",
              "<style scoped>\n",
              "    .dataframe tbody tr th:only-of-type {\n",
              "        vertical-align: middle;\n",
              "    }\n",
              "\n",
              "    .dataframe tbody tr th {\n",
              "        vertical-align: top;\n",
              "    }\n",
              "\n",
              "    .dataframe thead th {\n",
              "        text-align: right;\n",
              "    }\n",
              "</style>\n",
              "<table border=\"1\" class=\"dataframe\">\n",
              "  <thead>\n",
              "    <tr style=\"text-align: right;\">\n",
              "      <th></th>\n",
              "      <th>Nilai UAN</th>\n",
              "      <th>Presensi</th>\n",
              "      <th>Nilai TPA</th>\n",
              "      <th>Nilai TOEFL</th>\n",
              "      <th>Nilai rata-rata matakuliah wajib semester 1</th>\n",
              "      <th>IPK</th>\n",
              "    </tr>\n",
              "  </thead>\n",
              "  <tbody>\n",
              "    <tr>\n",
              "      <th>0</th>\n",
              "      <td>14</td>\n",
              "      <td>14</td>\n",
              "      <td>480</td>\n",
              "      <td>301</td>\n",
              "      <td>37.62</td>\n",
              "      <td>3.96</td>\n",
              "    </tr>\n",
              "    <tr>\n",
              "      <th>1</th>\n",
              "      <td>18</td>\n",
              "      <td>9</td>\n",
              "      <td>470</td>\n",
              "      <td>509</td>\n",
              "      <td>45.54</td>\n",
              "      <td>3.45</td>\n",
              "    </tr>\n",
              "    <tr>\n",
              "      <th>2</th>\n",
              "      <td>18</td>\n",
              "      <td>14</td>\n",
              "      <td>322</td>\n",
              "      <td>425</td>\n",
              "      <td>61.38</td>\n",
              "      <td>3.96</td>\n",
              "    </tr>\n",
              "    <tr>\n",
              "      <th>3</th>\n",
              "      <td>10</td>\n",
              "      <td>4</td>\n",
              "      <td>563</td>\n",
              "      <td>533</td>\n",
              "      <td>23.76</td>\n",
              "      <td>2.75</td>\n",
              "    </tr>\n",
              "    <tr>\n",
              "      <th>4</th>\n",
              "      <td>21</td>\n",
              "      <td>1</td>\n",
              "      <td>357</td>\n",
              "      <td>363</td>\n",
              "      <td>74.25</td>\n",
              "      <td>3.01</td>\n",
              "    </tr>\n",
              "    <tr>\n",
              "      <th>5</th>\n",
              "      <td>10</td>\n",
              "      <td>11</td>\n",
              "      <td>367</td>\n",
              "      <td>305</td>\n",
              "      <td>58.41</td>\n",
              "      <td>3.25</td>\n",
              "    </tr>\n",
              "    <tr>\n",
              "      <th>6</th>\n",
              "      <td>14</td>\n",
              "      <td>5</td>\n",
              "      <td>445</td>\n",
              "      <td>327</td>\n",
              "      <td>74.25</td>\n",
              "      <td>2.87</td>\n",
              "    </tr>\n",
              "    <tr>\n",
              "      <th>7</th>\n",
              "      <td>24</td>\n",
              "      <td>11</td>\n",
              "      <td>321</td>\n",
              "      <td>508</td>\n",
              "      <td>75.24</td>\n",
              "      <td>3.76</td>\n",
              "    </tr>\n",
              "    <tr>\n",
              "      <th>8</th>\n",
              "      <td>23</td>\n",
              "      <td>5</td>\n",
              "      <td>568</td>\n",
              "      <td>274</td>\n",
              "      <td>27.72</td>\n",
              "      <td>2.85</td>\n",
              "    </tr>\n",
              "    <tr>\n",
              "      <th>9</th>\n",
              "      <td>25</td>\n",
              "      <td>0</td>\n",
              "      <td>389</td>\n",
              "      <td>412</td>\n",
              "      <td>53.46</td>\n",
              "      <td>2.65</td>\n",
              "    </tr>\n",
              "    <tr>\n",
              "      <th>10</th>\n",
              "      <td>18</td>\n",
              "      <td>2</td>\n",
              "      <td>518</td>\n",
              "      <td>595</td>\n",
              "      <td>53.46</td>\n",
              "      <td>3.86</td>\n",
              "    </tr>\n",
              "    <tr>\n",
              "      <th>11</th>\n",
              "      <td>23</td>\n",
              "      <td>3</td>\n",
              "      <td>323</td>\n",
              "      <td>347</td>\n",
              "      <td>86.13</td>\n",
              "      <td>3.30</td>\n",
              "    </tr>\n",
              "    <tr>\n",
              "      <th>12</th>\n",
              "      <td>13</td>\n",
              "      <td>9</td>\n",
              "      <td>515</td>\n",
              "      <td>587</td>\n",
              "      <td>95.04</td>\n",
              "      <td>3.21</td>\n",
              "    </tr>\n",
              "    <tr>\n",
              "      <th>13</th>\n",
              "      <td>15</td>\n",
              "      <td>1</td>\n",
              "      <td>371</td>\n",
              "      <td>540</td>\n",
              "      <td>28.71</td>\n",
              "      <td>3.10</td>\n",
              "    </tr>\n",
              "    <tr>\n",
              "      <th>14</th>\n",
              "      <td>17</td>\n",
              "      <td>10</td>\n",
              "      <td>448</td>\n",
              "      <td>426</td>\n",
              "      <td>87.12</td>\n",
              "      <td>2.76</td>\n",
              "    </tr>\n",
              "    <tr>\n",
              "      <th>15</th>\n",
              "      <td>22</td>\n",
              "      <td>5</td>\n",
              "      <td>565</td>\n",
              "      <td>373</td>\n",
              "      <td>58.41</td>\n",
              "      <td>2.86</td>\n",
              "    </tr>\n",
              "    <tr>\n",
              "      <th>16</th>\n",
              "      <td>25</td>\n",
              "      <td>13</td>\n",
              "      <td>426</td>\n",
              "      <td>533</td>\n",
              "      <td>70.29</td>\n",
              "      <td>2.55</td>\n",
              "    </tr>\n",
              "    <tr>\n",
              "      <th>17</th>\n",
              "      <td>11</td>\n",
              "      <td>5</td>\n",
              "      <td>493</td>\n",
              "      <td>375</td>\n",
              "      <td>56.43</td>\n",
              "      <td>3.15</td>\n",
              "    </tr>\n",
              "    <tr>\n",
              "      <th>18</th>\n",
              "      <td>25</td>\n",
              "      <td>4</td>\n",
              "      <td>407</td>\n",
              "      <td>421</td>\n",
              "      <td>51.48</td>\n",
              "      <td>3.45</td>\n",
              "    </tr>\n",
              "  </tbody>\n",
              "</table>\n",
              "</div>"
            ],
            "text/plain": [
              "    Nilai UAN  Presensi  ...  Nilai rata-rata matakuliah wajib semester 1   IPK\n",
              "0          14        14  ...                                        37.62  3.96\n",
              "1          18         9  ...                                        45.54  3.45\n",
              "2          18        14  ...                                        61.38  3.96\n",
              "3          10         4  ...                                        23.76  2.75\n",
              "4          21         1  ...                                        74.25  3.01\n",
              "5          10        11  ...                                        58.41  3.25\n",
              "6          14         5  ...                                        74.25  2.87\n",
              "7          24        11  ...                                        75.24  3.76\n",
              "8          23         5  ...                                        27.72  2.85\n",
              "9          25         0  ...                                        53.46  2.65\n",
              "10         18         2  ...                                        53.46  3.86\n",
              "11         23         3  ...                                        86.13  3.30\n",
              "12         13         9  ...                                        95.04  3.21\n",
              "13         15         1  ...                                        28.71  3.10\n",
              "14         17        10  ...                                        87.12  2.76\n",
              "15         22         5  ...                                        58.41  2.86\n",
              "16         25        13  ...                                        70.29  2.55\n",
              "17         11         5  ...                                        56.43  3.15\n",
              "18         25         4  ...                                        51.48  3.45\n",
              "\n",
              "[19 rows x 6 columns]"
            ]
          },
          "metadata": {},
          "execution_count": 10
        }
      ]
    },
    {
      "cell_type": "code",
      "metadata": {
        "colab": {
          "base_uri": "https://localhost:8080/",
          "height": 237
        },
        "id": "KOcc0PIhbewd",
        "outputId": "634a5c99-1352-4566-e013-ab7818e8f2a5"
      },
      "source": [
        "# ganti nama kolom\n",
        "df_new = df.rename(columns={'Nilai rata-rata matakuliah wajib semester 1':'Matkul Wajib'})\n",
        "\n",
        "#korelasi = df[['Nilai UAN','Presensi', 'Nilai TPA', 'Nilai TOEFL', 'Nilai rata-rata matakuliah wajib semester 1', 'IPK']]\n",
        "\n",
        "# mencari nilai korelasi dengan metode pearson product momment\n",
        "cormat = df_new.corr(method='pearson')\n",
        "round(cormat, 10)"
      ],
      "execution_count": 3,
      "outputs": [
        {
          "output_type": "execute_result",
          "data": {
            "text/html": [
              "<div>\n",
              "<style scoped>\n",
              "    .dataframe tbody tr th:only-of-type {\n",
              "        vertical-align: middle;\n",
              "    }\n",
              "\n",
              "    .dataframe tbody tr th {\n",
              "        vertical-align: top;\n",
              "    }\n",
              "\n",
              "    .dataframe thead th {\n",
              "        text-align: right;\n",
              "    }\n",
              "</style>\n",
              "<table border=\"1\" class=\"dataframe\">\n",
              "  <thead>\n",
              "    <tr style=\"text-align: right;\">\n",
              "      <th></th>\n",
              "      <th>Nilai UAN</th>\n",
              "      <th>Presensi</th>\n",
              "      <th>Nilai TPA</th>\n",
              "      <th>Nilai TOEFL</th>\n",
              "      <th>Matkul Wajib</th>\n",
              "      <th>IPK</th>\n",
              "    </tr>\n",
              "  </thead>\n",
              "  <tbody>\n",
              "    <tr>\n",
              "      <th>Nilai UAN</th>\n",
              "      <td>1.000000</td>\n",
              "      <td>-0.155471</td>\n",
              "      <td>-0.278212</td>\n",
              "      <td>-0.025349</td>\n",
              "      <td>0.164025</td>\n",
              "      <td>-0.093285</td>\n",
              "    </tr>\n",
              "    <tr>\n",
              "      <th>Presensi</th>\n",
              "      <td>-0.155471</td>\n",
              "      <td>1.000000</td>\n",
              "      <td>-0.103233</td>\n",
              "      <td>-0.026387</td>\n",
              "      <td>0.201685</td>\n",
              "      <td>0.354966</td>\n",
              "    </tr>\n",
              "    <tr>\n",
              "      <th>Nilai TPA</th>\n",
              "      <td>-0.278212</td>\n",
              "      <td>-0.103233</td>\n",
              "      <td>1.000000</td>\n",
              "      <td>0.077788</td>\n",
              "      <td>-0.366889</td>\n",
              "      <td>-0.268584</td>\n",
              "    </tr>\n",
              "    <tr>\n",
              "      <th>Nilai TOEFL</th>\n",
              "      <td>-0.025349</td>\n",
              "      <td>-0.026387</td>\n",
              "      <td>0.077788</td>\n",
              "      <td>1.000000</td>\n",
              "      <td>0.059926</td>\n",
              "      <td>0.081863</td>\n",
              "    </tr>\n",
              "    <tr>\n",
              "      <th>Matkul Wajib</th>\n",
              "      <td>0.164025</td>\n",
              "      <td>0.201685</td>\n",
              "      <td>-0.366889</td>\n",
              "      <td>0.059926</td>\n",
              "      <td>1.000000</td>\n",
              "      <td>-0.034317</td>\n",
              "    </tr>\n",
              "    <tr>\n",
              "      <th>IPK</th>\n",
              "      <td>-0.093285</td>\n",
              "      <td>0.354966</td>\n",
              "      <td>-0.268584</td>\n",
              "      <td>0.081863</td>\n",
              "      <td>-0.034317</td>\n",
              "      <td>1.000000</td>\n",
              "    </tr>\n",
              "  </tbody>\n",
              "</table>\n",
              "</div>"
            ],
            "text/plain": [
              "              Nilai UAN  Presensi  ...  Matkul Wajib       IPK\n",
              "Nilai UAN      1.000000 -0.155471  ...      0.164025 -0.093285\n",
              "Presensi      -0.155471  1.000000  ...      0.201685  0.354966\n",
              "Nilai TPA     -0.278212 -0.103233  ...     -0.366889 -0.268584\n",
              "Nilai TOEFL   -0.025349 -0.026387  ...      0.059926  0.081863\n",
              "Matkul Wajib   0.164025  0.201685  ...      1.000000 -0.034317\n",
              "IPK           -0.093285  0.354966  ...     -0.034317  1.000000\n",
              "\n",
              "[6 rows x 6 columns]"
            ]
          },
          "metadata": {},
          "execution_count": 3
        }
      ]
    },
    {
      "cell_type": "markdown",
      "metadata": {
        "id": "-iY-sArVWlR3"
      },
      "source": [
        "### Variasi nilai koefisien korelasi:\n",
        "* 0.81 - 1 \t: hubungan sangat kuat\n",
        "* 0.61 - 0.8 \t: hubungan kuat\n",
        "* 0.41 - 0.6\t: hubungan sedang\n",
        "* 0.21 - 0.4\t: hubungan lemah\n",
        "* 0.01 - 0.2\t: hubungan sangat lemah\n",
        "\n",
        "### Penjelasan Hasil Korelasi Bari Pertama\n",
        "* Nilai Koefisien korelasi Nilai UAN dengan Presensi adalah -0.155471 (negatif). Berlawanan arah, maksudnya apabila Nilai UAN tinggi maka belum tentu presensi nya tinggi, kemungkinan presensinya rendah\n",
        "* Nilai koefisien korelasi Nilai UAN dengan Nilai TPA adalah -0.278212 (negatif). Berlawanan arah, maksudnya apabila Nilai UAN tinggi maka belum tentu Nilai TPA nya tinggi, kemungkinan Nilai TPA nya rendah\n",
        "* Nilai koefisien korelasi Nilai UAN dengan Nilai TOEFL adalah -0.025349 (negatif). Berlawanan arah, maksudnya apabila Nilai UAN tinggi maka belum tentu Nilai TOEFL nya tinggi, kemungkinan Nilai TOEFL nya rendah\n",
        "* Nilai koefisien korelasi Nilai UAN dengan Matkul Wajib adalah 0.164025 (positif). Searah, maksudnya apabila Nilai UAN tinggi, kemungkinan Nilai Matkul wajib juga tinggi. Namun karena nilai koefisiennya < 0.4, hubungannya lemah\n",
        "* Nilai koefisien korelasi Nilai UAN dengan IPK adalah -0.093285 (negatif). Berlawanan arah, maksudnya apabila Nilai UAN tinggi maka belum tentu IPK nya tinggi, kemungkinan IPK nya rendah\n",
        "\n"
      ]
    },
    {
      "cell_type": "markdown",
      "metadata": {
        "id": "oInyQ9LIMT8K"
      },
      "source": [
        "# Regresi Linear Berganda"
      ]
    },
    {
      "cell_type": "markdown",
      "metadata": {
        "id": "cu3NWZtLMW7g"
      },
      "source": [
        "1. Inisialisasi variable dependence dan independence"
      ]
    },
    {
      "cell_type": "code",
      "metadata": {
        "id": "oF1a_rzNMc3j"
      },
      "source": [
        "import numpy as np\n",
        "\n",
        "X = df_new[[\"Nilai UAN\", \"Presensi\", \"Nilai TPA\", \"Nilai TOEFL\", \"Matkul Wajib\"]]\n",
        "y = df_new[[\"IPK\"]]\n"
      ],
      "execution_count": 4,
      "outputs": []
    },
    {
      "cell_type": "markdown",
      "metadata": {
        "id": "SyjtOqyCQroq"
      },
      "source": [
        "2. Mencari nilai intercept dan koefisien"
      ]
    },
    {
      "cell_type": "code",
      "metadata": {
        "colab": {
          "base_uri": "https://localhost:8080/"
        },
        "id": "dNwlIi_EQv-T",
        "outputId": "f503c801-261a-4b32-de5d-824a45199f5a"
      },
      "source": [
        "from sklearn import linear_model\n",
        "\n",
        "regression = linear_model.LinearRegression()\n",
        "regression.fit(X, y)\n",
        "\n",
        "print(\"a: \", regression.intercept_)\n",
        "print(\"b: \", regression.coef_)"
      ],
      "execution_count": 5,
      "outputs": [
        {
          "output_type": "stream",
          "name": "stdout",
          "text": [
            "a:  [3.97980157]\n",
            "b:  [[-0.00808231  0.03430779 -0.00186477  0.00057231 -0.00490933]]\n"
          ]
        }
      ]
    },
    {
      "cell_type": "markdown",
      "metadata": {
        "id": "Kr4Nz-xSbez2"
      },
      "source": [
        "3. Mencari Hasil regresi Nilai UAN"
      ]
    },
    {
      "cell_type": "markdown",
      "metadata": {
        "id": "Iyrj2_wNn__t"
      },
      "source": [
        ""
      ]
    },
    {
      "cell_type": "code",
      "metadata": {
        "id": "wJqAzX2i-hep"
      },
      "source": [
        "a = regression.intercept_\n",
        "b = regression.coef_"
      ],
      "execution_count": 7,
      "outputs": []
    },
    {
      "cell_type": "code",
      "metadata": {
        "id": "1FmzPaUYbiLT",
        "colab": {
          "base_uri": "https://localhost:8080/"
        },
        "outputId": "1825fc7f-77b1-4de9-f1b2-570ccd308489"
      },
      "source": [
        "# rumus: Y = a + bX\n",
        "Y = a + b[0]\n",
        "print(Y)"
      ],
      "execution_count": 8,
      "outputs": [
        {
          "output_type": "stream",
          "name": "stdout",
          "text": [
            "[3.97171926 4.01410936 3.9779368  3.98037388 3.97489224]\n"
          ]
        }
      ]
    }
  ]
}